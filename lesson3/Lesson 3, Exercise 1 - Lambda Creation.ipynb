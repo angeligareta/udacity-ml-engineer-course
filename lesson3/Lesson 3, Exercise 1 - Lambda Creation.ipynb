{
 "cells": [
  {
   "cell_type": "code",
   "execution_count": 14,
   "metadata": {},
   "outputs": [],
   "source": [
    "import boto3\n",
    "client = boto3.client('lambda')"
   ]
  },
  {
   "cell_type": "code",
   "execution_count": 16,
   "metadata": {},
   "outputs": [
    {
     "ename": "ParamValidationError",
     "evalue": "Parameter validation failed:\nUnknown parameter in input: \"Runtime\", must be one of: FunctionName, ZipFile, S3Bucket, S3Key, S3ObjectVersion, ImageUri, Publish, DryRun, RevisionId, Architectures\nUnknown parameter in input: \"Handler\", must be one of: FunctionName, ZipFile, S3Bucket, S3Key, S3ObjectVersion, ImageUri, Publish, DryRun, RevisionId, Architectures\nUnknown parameter in input: \"Code\", must be one of: FunctionName, ZipFile, S3Bucket, S3Key, S3ObjectVersion, ImageUri, Publish, DryRun, RevisionId, Architectures\nUnknown parameter in input: \"Description\", must be one of: FunctionName, ZipFile, S3Bucket, S3Key, S3ObjectVersion, ImageUri, Publish, DryRun, RevisionId, Architectures\nUnknown parameter in input: \"Timeout\", must be one of: FunctionName, ZipFile, S3Bucket, S3Key, S3ObjectVersion, ImageUri, Publish, DryRun, RevisionId, Architectures\nUnknown parameter in input: \"MemorySize\", must be one of: FunctionName, ZipFile, S3Bucket, S3Key, S3ObjectVersion, ImageUri, Publish, DryRun, RevisionId, Architectures\nUnknown parameter in input: \"PackageType\", must be one of: FunctionName, ZipFile, S3Bucket, S3Key, S3ObjectVersion, ImageUri, Publish, DryRun, RevisionId, Architectures\nUnknown parameter in input: \"Role\", must be one of: FunctionName, ZipFile, S3Bucket, S3Key, S3ObjectVersion, ImageUri, Publish, DryRun, RevisionId, Architectures",
     "output_type": "error",
     "traceback": [
      "\u001b[0;31m---------------------------------------------------------------------------\u001b[0m",
      "\u001b[0;31mParamValidationError\u001b[0m                      Traceback (most recent call last)",
      "\u001b[0;32m<ipython-input-16-56c70bf75821>\u001b[0m in \u001b[0;36m<module>\u001b[0;34m\u001b[0m\n\u001b[1;32m     20\u001b[0m     \u001b[0mPublish\u001b[0m\u001b[0;34m=\u001b[0m\u001b[0;32mTrue\u001b[0m\u001b[0;34m,\u001b[0m\u001b[0;34m\u001b[0m\u001b[0;34m\u001b[0m\u001b[0m\n\u001b[1;32m     21\u001b[0m     \u001b[0mPackageType\u001b[0m\u001b[0;34m=\u001b[0m\u001b[0;34m'Zip'\u001b[0m\u001b[0;34m,\u001b[0m\u001b[0;34m\u001b[0m\u001b[0;34m\u001b[0m\u001b[0m\n\u001b[0;32m---> 22\u001b[0;31m     \u001b[0mRole\u001b[0m\u001b[0;34m=\u001b[0m\u001b[0;34m'arn:aws:iam::086566025687:role/lambda_execution_role'\u001b[0m\u001b[0;34m\u001b[0m\u001b[0;34m\u001b[0m\u001b[0m\n\u001b[0m\u001b[1;32m     23\u001b[0m )\n",
      "\u001b[0;32m/opt/conda/lib/python3.7/site-packages/botocore/client.py\u001b[0m in \u001b[0;36m_api_call\u001b[0;34m(self, *args, **kwargs)\u001b[0m\n\u001b[1;32m    413\u001b[0m                     \"%s() only accepts keyword arguments.\" % py_operation_name)\n\u001b[1;32m    414\u001b[0m             \u001b[0;31m# The \"self\" in this scope is referring to the BaseClient.\u001b[0m\u001b[0;34m\u001b[0m\u001b[0;34m\u001b[0m\u001b[0;34m\u001b[0m\u001b[0m\n\u001b[0;32m--> 415\u001b[0;31m             \u001b[0;32mreturn\u001b[0m \u001b[0mself\u001b[0m\u001b[0;34m.\u001b[0m\u001b[0m_make_api_call\u001b[0m\u001b[0;34m(\u001b[0m\u001b[0moperation_name\u001b[0m\u001b[0;34m,\u001b[0m \u001b[0mkwargs\u001b[0m\u001b[0;34m)\u001b[0m\u001b[0;34m\u001b[0m\u001b[0;34m\u001b[0m\u001b[0m\n\u001b[0m\u001b[1;32m    416\u001b[0m \u001b[0;34m\u001b[0m\u001b[0m\n\u001b[1;32m    417\u001b[0m         \u001b[0m_api_call\u001b[0m\u001b[0;34m.\u001b[0m\u001b[0m__name__\u001b[0m \u001b[0;34m=\u001b[0m \u001b[0mstr\u001b[0m\u001b[0;34m(\u001b[0m\u001b[0mpy_operation_name\u001b[0m\u001b[0;34m)\u001b[0m\u001b[0;34m\u001b[0m\u001b[0;34m\u001b[0m\u001b[0m\n",
      "\u001b[0;32m/opt/conda/lib/python3.7/site-packages/botocore/client.py\u001b[0m in \u001b[0;36m_make_api_call\u001b[0;34m(self, operation_name, api_params)\u001b[0m\n\u001b[1;32m    714\u001b[0m         }\n\u001b[1;32m    715\u001b[0m         request_dict = self._convert_to_request_dict(\n\u001b[0;32m--> 716\u001b[0;31m             api_params, operation_model, context=request_context)\n\u001b[0m\u001b[1;32m    717\u001b[0m         \u001b[0mresolve_checksum_context\u001b[0m\u001b[0;34m(\u001b[0m\u001b[0mrequest_dict\u001b[0m\u001b[0;34m,\u001b[0m \u001b[0moperation_model\u001b[0m\u001b[0;34m,\u001b[0m \u001b[0mapi_params\u001b[0m\u001b[0;34m)\u001b[0m\u001b[0;34m\u001b[0m\u001b[0;34m\u001b[0m\u001b[0m\n\u001b[1;32m    718\u001b[0m \u001b[0;34m\u001b[0m\u001b[0m\n",
      "\u001b[0;32m/opt/conda/lib/python3.7/site-packages/botocore/client.py\u001b[0m in \u001b[0;36m_convert_to_request_dict\u001b[0;34m(self, api_params, operation_model, context)\u001b[0m\n\u001b[1;32m    764\u001b[0m             api_params, operation_model, context)\n\u001b[1;32m    765\u001b[0m         request_dict = self._serializer.serialize_to_request(\n\u001b[0;32m--> 766\u001b[0;31m             api_params, operation_model)\n\u001b[0m\u001b[1;32m    767\u001b[0m         \u001b[0;32mif\u001b[0m \u001b[0;32mnot\u001b[0m \u001b[0mself\u001b[0m\u001b[0;34m.\u001b[0m\u001b[0m_client_config\u001b[0m\u001b[0;34m.\u001b[0m\u001b[0minject_host_prefix\u001b[0m\u001b[0;34m:\u001b[0m\u001b[0;34m\u001b[0m\u001b[0;34m\u001b[0m\u001b[0m\n\u001b[1;32m    768\u001b[0m             \u001b[0mrequest_dict\u001b[0m\u001b[0;34m.\u001b[0m\u001b[0mpop\u001b[0m\u001b[0;34m(\u001b[0m\u001b[0;34m'host_prefix'\u001b[0m\u001b[0;34m,\u001b[0m \u001b[0;32mNone\u001b[0m\u001b[0;34m)\u001b[0m\u001b[0;34m\u001b[0m\u001b[0;34m\u001b[0m\u001b[0m\n",
      "\u001b[0;32m/opt/conda/lib/python3.7/site-packages/botocore/validate.py\u001b[0m in \u001b[0;36mserialize_to_request\u001b[0;34m(self, parameters, operation_model)\u001b[0m\n\u001b[1;32m    357\u001b[0m                                                     operation_model.input_shape)\n\u001b[1;32m    358\u001b[0m             \u001b[0;32mif\u001b[0m \u001b[0mreport\u001b[0m\u001b[0;34m.\u001b[0m\u001b[0mhas_errors\u001b[0m\u001b[0;34m(\u001b[0m\u001b[0;34m)\u001b[0m\u001b[0;34m:\u001b[0m\u001b[0;34m\u001b[0m\u001b[0;34m\u001b[0m\u001b[0m\n\u001b[0;32m--> 359\u001b[0;31m                 \u001b[0;32mraise\u001b[0m \u001b[0mParamValidationError\u001b[0m\u001b[0;34m(\u001b[0m\u001b[0mreport\u001b[0m\u001b[0;34m=\u001b[0m\u001b[0mreport\u001b[0m\u001b[0;34m.\u001b[0m\u001b[0mgenerate_report\u001b[0m\u001b[0;34m(\u001b[0m\u001b[0;34m)\u001b[0m\u001b[0;34m)\u001b[0m\u001b[0;34m\u001b[0m\u001b[0;34m\u001b[0m\u001b[0m\n\u001b[0m\u001b[1;32m    360\u001b[0m         return self._serializer.serialize_to_request(parameters,\n\u001b[1;32m    361\u001b[0m                                                      operation_model)\n",
      "\u001b[0;31mParamValidationError\u001b[0m: Parameter validation failed:\nUnknown parameter in input: \"Runtime\", must be one of: FunctionName, ZipFile, S3Bucket, S3Key, S3ObjectVersion, ImageUri, Publish, DryRun, RevisionId, Architectures\nUnknown parameter in input: \"Handler\", must be one of: FunctionName, ZipFile, S3Bucket, S3Key, S3ObjectVersion, ImageUri, Publish, DryRun, RevisionId, Architectures\nUnknown parameter in input: \"Code\", must be one of: FunctionName, ZipFile, S3Bucket, S3Key, S3ObjectVersion, ImageUri, Publish, DryRun, RevisionId, Architectures\nUnknown parameter in input: \"Description\", must be one of: FunctionName, ZipFile, S3Bucket, S3Key, S3ObjectVersion, ImageUri, Publish, DryRun, RevisionId, Architectures\nUnknown parameter in input: \"Timeout\", must be one of: FunctionName, ZipFile, S3Bucket, S3Key, S3ObjectVersion, ImageUri, Publish, DryRun, RevisionId, Architectures\nUnknown parameter in input: \"MemorySize\", must be one of: FunctionName, ZipFile, S3Bucket, S3Key, S3ObjectVersion, ImageUri, Publish, DryRun, RevisionId, Architectures\nUnknown parameter in input: \"PackageType\", must be one of: FunctionName, ZipFile, S3Bucket, S3Key, S3ObjectVersion, ImageUri, Publish, DryRun, RevisionId, Architectures\nUnknown parameter in input: \"Role\", must be one of: FunctionName, ZipFile, S3Bucket, S3Key, S3ObjectVersion, ImageUri, Publish, DryRun, RevisionId, Architectures"
     ]
    }
   ],
   "source": [
    "from zipfile import ZipFile\n",
    "\n",
    "with ZipFile('code.zip', 'w') as f:\n",
    "    f.write('HelloBlazePreprocessLambda.py')\n",
    "\n",
    "# If submitting as a ZipFile, you need to insert raw data. \n",
    "with open('code.zip', 'rb') as f:\n",
    "    b_code = f.read()\n",
    "\n",
    "response = client.create_function(\n",
    "    FunctionName='botoLambdaFunction1',\n",
    "    Runtime='python3.9',\n",
    "    Handler='HelloBlazePreprocessLambda.preprocess',\n",
    "    Code={\n",
    "        'ZipFile': b_code\n",
    "    },\n",
    "    Description='string',\n",
    "    Timeout=30,\n",
    "    MemorySize=1024,\n",
    "    Publish=True,\n",
    "    PackageType='Zip',\n",
    "    Role='arn:aws:iam::086566025687:role/lambda_execution_role'\n",
    ")"
   ]
  },
  {
   "cell_type": "code",
   "execution_count": 25,
   "metadata": {},
   "outputs": [],
   "source": [
    "from zipfile import ZipFile\n",
    "\n",
    "with ZipFile('code.zip', 'w') as f:\n",
    "    f.write('HelloBlazePreprocessLambda.py')\n",
    "\n",
    "# If submitting as a ZipFile, you need to insert raw data. \n",
    "with open('code.zip', 'rb') as f:\n",
    "    b_code = f.read()\n",
    "\n",
    "response = client.update_function_code(\n",
    "    FunctionName='botoLambdaFunction1',\n",
    "    ZipFile= b_code,\n",
    ")"
   ]
  },
  {
   "cell_type": "code",
   "execution_count": 27,
   "metadata": {},
   "outputs": [],
   "source": [
    "import sagemaker\n",
    "session = sagemaker.Session()"
   ]
  },
  {
   "cell_type": "code",
   "execution_count": null,
   "metadata": {},
   "outputs": [],
   "source": []
  }
 ],
 "metadata": {
  "kernelspec": {
   "display_name": "Python 3 (Data Science)",
   "language": "python",
   "name": "python3__SAGEMAKER_INTERNAL__arn:aws:sagemaker:us-east-1:081325390199:image/datascience-1.0"
  },
  "language_info": {
   "codemirror_mode": {
    "name": "ipython",
    "version": 3
   },
   "file_extension": ".py",
   "mimetype": "text/x-python",
   "name": "python",
   "nbconvert_exporter": "python",
   "pygments_lexer": "ipython3",
   "version": "3.7.10"
  }
 },
 "nbformat": 4,
 "nbformat_minor": 4
}
